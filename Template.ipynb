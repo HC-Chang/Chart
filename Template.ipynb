{
 "cells": [
  {
   "cell_type": "code",
   "execution_count": 1,
   "id": "7b0d1a53",
   "metadata": {},
   "outputs": [],
   "source": [
    "import plotly.express as px\n",
    "import plotly.graph_objects as go\n",
    "import numpy as np\n",
    "import time\n",
    "import pandas as pd\n",
    "from random import randrange\n",
    "import random\n",
    "import math\n",
    "from sympy import *"
   ]
  },
  {
   "cell_type": "code",
   "execution_count": 2,
   "id": "4007d2df",
   "metadata": {},
   "outputs": [],
   "source": [
    "# Load Data\n",
    "def load_NP_data(file_name):\n",
    "    load_pd_vals = pd.read_csv(file_name,header=None)\n",
    "    return load_pd_vals\n",
    "\n",
    "# load map\n",
    "def load_map(file_name):\n",
    "    return load_NP_data(file_name).to_numpy()\n",
    "\n",
    "def view_map_show(map):\n",
    "#     px.on_click(handle_click)\n",
    "\n",
    "    # 黑、灰、棕、藍、白、紅、黃、綠\n",
    "    fig = px.imshow(map,\n",
    "                    range_color=[-10, 10],\n",
    "                    color_continuous_scale=[(0.00, \"black\"),   (0.125, \"black\"),\n",
    "                                            (0.125, \"grey\"),   (0.25, \"grey\"),\n",
    "                                            (0.25, \"#E0AE44\"),   (0.375, \"#E0AE44\"),\n",
    "                                            (0.375, \"#E0FFFF\"),   (0.5, \"#E0FFFF\"),\n",
    "                                            (0.5, \"white\"),   (0.625, \"white\"),\n",
    "                                            (0.625, \"red\"), (0.75, \"red\"),\n",
    "                                            (0.75, \"#FFCC00\"), (0.875, \"#FFCC00\"),\n",
    "                                            (0.875, \"green\"),  (1.00, \"green\")])\n",
    "    \n",
    "    fig = go.FigureWidget(fig)\n",
    "    return fig"
   ]
  },
  {
   "cell_type": "code",
   "execution_count": 3,
   "id": "002fce4a",
   "metadata": {},
   "outputs": [],
   "source": [
    "map_file = './data/37x37-test_map.csv'\n",
    "map_vals = load_map(map_file)"
   ]
  },
  {
   "cell_type": "code",
   "execution_count": 4,
   "id": "4a73cc1a",
   "metadata": {},
   "outputs": [],
   "source": [
    "view_map_vals = map_vals.copy()\n",
    "\n",
    "view_map = view_map_show(view_map_vals)\n",
    "view_map_data = view_map.data[0]\n",
    "# view_map"
   ]
  },
  {
   "cell_type": "code",
   "execution_count": 5,
   "id": "e0548137",
   "metadata": {},
   "outputs": [
    {
     "data": {
      "application/vnd.jupyter.widget-view+json": {
       "model_id": "05e0c8841c074b28b4779faef1d9ebff",
       "version_major": 2,
       "version_minor": 0
      },
      "text/plain": [
       "FigureWidget({\n",
       "    'data': [{'coloraxis': 'coloraxis',\n",
       "              'hovertemplate': 'x: %{x}<br>y: %{y}<br>c…"
      ]
     },
     "metadata": {},
     "output_type": "display_data"
    }
   ],
   "source": [
    "# First Part\n",
    "\n",
    "view_point = (18,18)\n",
    "view_size = 18\n",
    "view_x, view_y = list(view_point)\n",
    "x1 = view_x-view_size\n",
    "x2 = view_x+view_size+1\n",
    "y1 = view_y-view_size\n",
    "y2 = view_y+view_size+1\n",
    "move_point = [7,5]\n",
    "move_x = move_point[0]\n",
    "move_y = move_point[1]\n",
    "\n",
    "view_map_data.z = view_map_vals\n",
    "view_map"
   ]
  },
  {
   "cell_type": "code",
   "execution_count": 6,
   "id": "4d718b84",
   "metadata": {},
   "outputs": [],
   "source": [
    "# Second Part-1\n",
    "\n",
    "\n",
    "# Move View Map Center\n",
    "\n",
    "for i in range(5):\n",
    "    d = view_map_vals[x1:x2, y1 + i:y2]\n",
    "    view_map_data.z = d\n",
    "#     b.show()\n",
    "    time.sleep(1)\n",
    "\n",
    "y1 += 5"
   ]
  },
  {
   "cell_type": "code",
   "execution_count": 7,
   "id": "3bfdfa45",
   "metadata": {},
   "outputs": [],
   "source": [
    "# Second Part-2\n",
    "\n",
    "view_map_data.z = view_map_vals\n",
    "temp_view_map_data = view_map_data.z.copy()\n",
    "\n",
    "for i in range(5):\n",
    "    move_map = temp_view_map_data.copy()\n",
    "    \n",
    "    #[y,x]     \n",
    "    move_map[move_x,move_y] = 10\n",
    "    view_map_data.z = move_map\n",
    "    time.sleep(1)\n",
    "    move_x += 1"
   ]
  }
 ],
 "metadata": {
  "kernelspec": {
   "display_name": "Python 3",
   "language": "python",
   "name": "python3"
  },
  "language_info": {
   "codemirror_mode": {
    "name": "ipython",
    "version": 3
   },
   "file_extension": ".py",
   "mimetype": "text/x-python",
   "name": "python",
   "nbconvert_exporter": "python",
   "pygments_lexer": "ipython3",
   "version": "3.9.2"
  }
 },
 "nbformat": 4,
 "nbformat_minor": 5
}
