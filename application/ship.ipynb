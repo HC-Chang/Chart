{
 "cells": [
  {
   "cell_type": "markdown",
   "metadata": {},
   "source": [
    "# Local View Maker\n",
    "\n",
    "## [Step 1 - Setting Global Variable](#1---Setting-Global-Variable)\n",
    "\n",
    "## [Step 2 - Load Map](#2---Load-Map)\n",
    "\n",
    "## [Step 3 - Start Simulation](#3---Start-Simulation)"
   ]
  },
  {
   "cell_type": "markdown",
   "metadata": {},
   "source": [
    "## Requirements\n",
    "\n",
    "- ipywidgets==7.6.2\n",
    "- plotly\n",
    "- pandas\n",
    "- numpy\n",
    "- sympy"
   ]
  },
  {
   "cell_type": "code",
   "execution_count": 1,
   "metadata": {
    "ExecuteTime": {
     "end_time": "2021-08-19T08:42:52.798261Z",
     "start_time": "2021-08-19T08:42:51.289832Z"
    }
   },
   "outputs": [],
   "source": [
    "import plotly.express as px\n",
    "import plotly.graph_objects as go\n",
    "import numpy as np\n",
    "import time\n",
    "import pandas as pd\n",
    "from random import randrange\n",
    "import random\n",
    "import math\n",
    "from sympy import *\n",
    "import csv"
   ]
  },
  {
   "cell_type": "markdown",
   "metadata": {},
   "source": [
    "## 1 - Setting Global Variable"
   ]
  },
  {
   "cell_type": "code",
   "execution_count": 2,
   "metadata": {
    "ExecuteTime": {
     "end_time": "2021-08-19T08:42:52.803923Z",
     "start_time": "2021-08-19T08:42:52.800104Z"
    }
   },
   "outputs": [],
   "source": [
    "# Global Variable\n",
    "\n",
    "# distance unit: nm\n",
    "# speed unit:    knot\n",
    "\n",
    "# time_interval: 6 min\n",
    "time_interval = 6\n",
    "\n",
    "# each block is 6 nm\n",
    "map_block_distance = 6\n",
    "view_size = 18\n",
    "\n",
    "view_map = []\n",
    "view_point = (18,18)\n",
    "voyage_plan = [(1,5),(10,14),(5,30)]\n",
    "\n",
    "# own ship\n",
    "guard_ring_size = 12\n",
    "\n",
    "# other ship\n",
    "buffer_size = 6\n",
    "\n",
    "# record\n",
    "is_record = 0"
   ]
  },
  {
   "cell_type": "markdown",
   "metadata": {},
   "source": [
    "## Data Structure"
   ]
  },
  {
   "cell_type": "markdown",
   "metadata": {},
   "source": [
    "### Ship\n",
    "- x, y, course, speed\n",
    "\n",
    "#### OwnShip\n",
    "- attribute: rpm, rudder angle, draught, waypoint_index\n",
    "- function: waypoint\n",
    "\n",
    "#### OtherShip\n",
    "- function: cpa, tcpa\n"
   ]
  },
  {
   "cell_type": "code",
   "execution_count": 3,
   "metadata": {
    "ExecuteTime": {
     "end_time": "2021-08-19T08:42:53.137017Z",
     "start_time": "2021-08-19T08:42:52.806888Z"
    },
    "code_folding": []
   },
   "outputs": [],
   "source": [
    "# Parent Class\n",
    "\n",
    "class Ship:\n",
    "    def __init__(self, x, y, course, speed):\n",
    "        self.x = int(x) \n",
    "        self.y = int(y)\n",
    "        self.course = course\n",
    "        self.speed = speed\n",
    "    \n",
    "    def print_info(self):\n",
    "        print(f\"position:\\t({self.x},{self.y})\\r\\ncourse:\\t\\t{self.course} °\\r\\nspeed:\\t\\t{self.speed} kn\")\n",
    "\n",
    "    def position(self):\n",
    "        return (self.x,self.y)\n",
    "\n",
    "    def update_course(self, course):\n",
    "        self.course = course    \n",
    "    def update_speed(self, speed):\n",
    "        self.speed = speed\n",
    "        \n",
    "# Child Class\n",
    "\n",
    "class OwnShip(Ship):\n",
    "    rpm = 0\n",
    "    rudder_angle = 0\n",
    "    \n",
    "    draught = 0\n",
    "    waypoint_index = 1\n",
    "    \n",
    "    def waypoint(self):\n",
    "        return voyage_plan[self.waypoint_index]\n",
    "\n",
    "    def update_course(self, course):\n",
    "        self.course = course \n",
    "    \n",
    "class OtherShip(Ship):\n",
    "    tcpa = 0\n",
    "    cpa = 0\n",
    "    \n",
    "    # minute    \n",
    "    def update_tcpa(self, target_ship):\n",
    "        # (x, y, course, speed)\n",
    "        a = (target_ship.x, target_ship.y, target_ship.course, target_ship.speed)\n",
    "        b = (self.x, self.y, self.course, self.speed)\n",
    "        \n",
    "        s1 = (round(a[3]*math.sin(a[2]*math.pi/180),0),round(a[3]*math.cos(a[2]*math.pi/180),0))\n",
    "        s2 = (round(b[3]*math.sin(b[2]*math.pi/180),0),round(b[3]*math.cos(b[2]*math.pi/180),0))\n",
    "\n",
    "        t = symbols('t')\n",
    "\n",
    "        aa = (a[0] + s1[0]*t, a[1] + s1[1]*t )\n",
    "        bb = (b[0] + s2[0]*t, b[1] + s2[1]*t )\n",
    "        dis = (aa[0]-bb[0])*(aa[0]-bb[0]) + (aa[1]-bb[1])*(aa[1]-bb[1])\n",
    "        dis = diff(dis)\n",
    "        dis\n",
    "        t = solve(dis, t)\n",
    "        tcpa = []\n",
    "        for i in t:\n",
    "            if i > 0:\n",
    "                tcpa.append(round(i,0))\n",
    "    \n",
    "        if not tcpa:\n",
    "            tcpa = -1\n",
    "        else:\n",
    "            tcpa = round(min(tcpa)*60,2)\n",
    "\n",
    "        self.tcpa = tcpa\n",
    "        \n",
    "    # nm\n",
    "    def update_cpa(self, target_ship):\n",
    "        a = (target_ship.x, target_ship.y, target_ship.course, target_ship.speed)\n",
    "        b = (self.x, self.y, self.course, self.speed)\n",
    "        s1 = (round(a[3]*math.sin(a[2]*math.pi/180),0),round(a[3]*math.cos(a[2]*math.pi/180),0))\n",
    "        if self.tcpa == -1:\n",
    "            aa = (b[0],b[1])\n",
    "        else:\n",
    "            aa = (a[0] + s1[0]*self.tcpa, a[1] + s1[1]*self.tcpa )\n",
    "    #     bb = (b[0] + s2[0]*tcpa, b[1] + s2[1]*tcpa )\n",
    "        cpa = round(math.sqrt(math.pow(a[0]-aa[0],2) + math.pow(a[1]-aa[1],2)),2)\n",
    "        self.cpa = cpa*map_block_distance\n",
    "    "
   ]
  },
  {
   "cell_type": "code",
   "execution_count": 4,
   "metadata": {
    "ExecuteTime": {
     "end_time": "2021-08-19T08:42:53.477622Z",
     "start_time": "2021-08-19T08:42:53.138772Z"
    },
    "code_folding": []
   },
   "outputs": [
    {
     "name": "stdout",
     "output_type": "stream",
     "text": [
      "position:\t(1,2)\r\n",
      "course:\t\t3 °\r\n",
      "speed:\t\t4 kn\n"
     ]
    },
    {
     "data": {
      "text/plain": [
       "10"
      ]
     },
     "execution_count": 4,
     "metadata": {},
     "output_type": "execute_result"
    }
   ],
   "source": [
    "# example \n",
    "\n",
    "a = OwnShip(1,2,3,4)\n",
    "\n",
    "a.print_info()\n",
    "a.waypoint_index = 1\n",
    "a.waypoint()\n",
    "b = a.waypoint()\n",
    "b[0]"
   ]
  },
  {
   "cell_type": "markdown",
   "metadata": {},
   "source": [
    "### Record Data\n",
    "\n",
    "| step | Own Ship | x | y | course | speed | rpm | rudder angle | waypoint | cpa | tcpa |\n",
    "| :--: | :------: |:-:|:-:| :----: | :---: | :-: | :----------: | :------: | :-: | :--: |\n",
    "|0|Own ship|1|1|90|6|3000|10|(10, 14)|||\n",
    "|1|Other ship|2|3|270|8||||3|10|\n"
   ]
  },
  {
   "cell_type": "markdown",
   "metadata": {},
   "source": [
    "### Color\n",
    "\n",
    "|Color|value|\n",
    "| :-: | :-: |\n",
    "|Green|8|\n",
    "|Yellow|5|\n",
    "|Red|3|\n",
    "|White|0|\n",
    "|Blue|-2|\n",
    "|Brown|-5|\n",
    "|Grey|-7|\n",
    "|Black|-10|"
   ]
  },
  {
   "cell_type": "code",
   "execution_count": 5,
   "metadata": {
    "ExecuteTime": {
     "end_time": "2021-08-19T08:42:53.952482Z",
     "start_time": "2021-08-19T08:42:53.479656Z"
    },
    "code_folding": []
   },
   "outputs": [],
   "source": [
    "# Color\n",
    "\n",
    "Color_Green = 8\n",
    "Color_Yellow = 5\n",
    "Color_Red = 3\n",
    "Color_White = 0\n",
    "Color_Blue = -2\n",
    "Color_Brown = -5\n",
    "Color_Grey = -7\n",
    "Color_Black = -10\n"
   ]
  },
  {
   "cell_type": "markdown",
   "metadata": {},
   "source": [
    "## Function Define\n",
    "### Data Function"
   ]
  },
  {
   "cell_type": "code",
   "execution_count": 6,
   "metadata": {
    "ExecuteTime": {
     "end_time": "2021-08-19T08:42:54.152523Z",
     "start_time": "2021-08-19T08:42:53.954060Z"
    },
    "code_folding": []
   },
   "outputs": [],
   "source": [
    "# data function\n",
    "\n",
    "# save data\n",
    "# make sure document and file are existed\n",
    "def save_NP_data(np_vals, file_name):\n",
    "    pd_vals = pd.DataFrame(np_vals)\n",
    "\n",
    "    \n",
    "    pd_vals.to_csv(file_name, header=0, index=0)\n",
    "    \n",
    "    \n",
    "    \n",
    "# load data\n",
    "def load_NP_data(file_name):\n",
    "    load_pd_vals = pd.read_csv(file_name,header=None)\n",
    "    return load_pd_vals\n",
    "\n",
    "\n",
    "\n",
    "# resize data\n",
    "def resize_NP_data(np_vals, resize):\n",
    "    resize_vals = np.zeros((resize[0],resize[1]),dtype=int)\n",
    "    \n",
    "    for j in range(np_vals.shape[1]):\n",
    "        for i in range(np_vals.shape[0]):\n",
    "            resize_vals[j][i] = np_vals[i][j]\n",
    "    return resize_vals"
   ]
  },
  {
   "cell_type": "markdown",
   "metadata": {},
   "source": [
    "### Map Function"
   ]
  },
  {
   "cell_type": "code",
   "execution_count": 7,
   "metadata": {
    "ExecuteTime": {
     "end_time": "2021-08-19T08:42:54.299561Z",
     "start_time": "2021-08-19T08:42:54.154414Z"
    },
    "code_folding": []
   },
   "outputs": [],
   "source": [
    "# Map Function\n",
    "\n",
    "# init map\n",
    "# load map\n",
    "\n",
    "# init map\n",
    "def init_map(x_size, y_size):\n",
    "    map = np.zeros((y_size, x_size),dtype=int)\n",
    "    return map\n",
    "\n",
    "# load map\n",
    "def load_map(file_name):\n",
    "    return load_NP_data(file_name).to_numpy()\n",
    "\n",
    "\n"
   ]
  },
  {
   "cell_type": "code",
   "execution_count": 8,
   "metadata": {
    "ExecuteTime": {
     "end_time": "2021-08-19T08:42:54.502600Z",
     "start_time": "2021-08-19T08:42:54.305539Z"
    },
    "code_folding": []
   },
   "outputs": [],
   "source": [
    "# map function test\n",
    "\n",
    "# aa = init_map(3,2)\n",
    "# aa"
   ]
  },
  {
   "cell_type": "markdown",
   "metadata": {},
   "source": [
    "### Render Function"
   ]
  },
  {
   "cell_type": "code",
   "execution_count": 9,
   "metadata": {
    "ExecuteTime": {
     "end_time": "2021-08-19T08:42:54.694461Z",
     "start_time": "2021-08-19T08:42:54.505762Z"
    },
    "code_folding": []
   },
   "outputs": [],
   "source": [
    "# render function - 1\n",
    "\n",
    "def handle_click(trace, points, state):\n",
    "    print(points.point_inds)\n",
    "\n",
    "def view_map_show(map):\n",
    "#     px.on_click(handle_click)\n",
    "\n",
    "    # 黑、灰、棕、藍、白、紅、黃、綠\n",
    "    fig = px.imshow(map,\n",
    "                    range_color=[-10, 10],\n",
    "                    color_continuous_scale=[(0.00, \"black\"),   (0.125, \"black\"),\n",
    "                                            (0.125, \"grey\"),   (0.25, \"grey\"),\n",
    "                                            (0.25, \"#E0AE44\"),   (0.375, \"#E0AE44\"),\n",
    "                                            (0.375, \"#E0FFFF\"),   (0.5, \"#E0FFFF\"),\n",
    "                                            (0.5, \"white\"),   (0.625, \"white\"),\n",
    "                                            (0.625, \"red\"), (0.75, \"red\"),\n",
    "                                            (0.75, \"#FFCC00\"), (0.875, \"#FFCC00\"),\n",
    "                                            (0.875, \"green\"),  (1.00, \"green\")])\n",
    "    \n",
    "    fig = go.FigureWidget(fig)\n",
    "    return fig\n",
    "    \n",
    "\n",
    "# render - ship\n",
    "\n",
    "def buffer(map, point, size):\n",
    "    pass\n"
   ]
  },
  {
   "cell_type": "code",
   "execution_count": 10,
   "metadata": {
    "ExecuteTime": {
     "end_time": "2021-08-19T08:42:54.861508Z",
     "start_time": "2021-08-19T08:42:54.696550Z"
    },
    "code_folding": []
   },
   "outputs": [],
   "source": [
    "# render function - 2\n",
    "\n",
    "# view point change\n",
    "def view_point_change(map_vals, view_point):\n",
    "    view_x, view_y = list(view_point)\n",
    "    return map_vals[view_x-view_size:view_x+view_size+1, view_y-view_size:view_y+view_size+1]\n",
    "\n",
    "def render(map_vals, render_datas, color):\n",
    "    list_data = list(render_datas)\n",
    "    \n",
    "    for data in list_data:\n",
    "        x,y = list(data)\n",
    "        x = int(round(x,0))\n",
    "        y = int(round(y,0))\n",
    "        shape_x, shape_y = map_vals.shape\n",
    "        if x< shape_x and y < shape_y and x >=0 and y >= 0:\n",
    "            map_vals[y][x] = color\n",
    "        \n",
    "    return map_vals\n",
    "\n",
    "def neighbor_points(point):\n",
    "    neighbors = []\n",
    "    startx, starty = list((point[0]-1,point[1]-1))\n",
    "\n",
    "    for i in range(3):\n",
    "        neighbors.append((startx, starty+i))\n",
    "    neighbors.append((startx+1, starty))\n",
    "    neighbors.append((startx+1, starty+2))\n",
    "    for i in range(3):\n",
    "        neighbors.append((startx+2, starty+i))\n",
    "    \n",
    "    return neighbors\n",
    "\n",
    "def distance_a_b(a,b):\n",
    "    return round(math.sqrt(math.pow(a[0]-b[0],2) + math.pow(a[1]-b[1],2)),2)\n",
    "\n",
    "def is_neighbor(pa, pb):\n",
    "    if(pa == pb):\n",
    "        return True\n",
    "    \n",
    "#     neighbors = neighbor_points(pb)\n",
    "#     for neighbor in neighbors:\n",
    "#         if(pa == neighbor):\n",
    "#             return True\n",
    "\n",
    "    distance = distance_a_b(pa,pb)\n",
    "    # about 1 block length (6 nm)     \n",
    "    if(distance < 1):\n",
    "        return true\n",
    "    return False\n",
    "\n",
    "def render_view_map(view_map_vals):\n",
    "    datas = [(1,1),(2,2)]\n",
    "    # render map - Color Brown\n",
    "#     view_map_vals = render(view_map_vals, datas, Color_Brown)\n",
    "    \n",
    "    # render depth of water - Color Blue\n",
    "#     view_map_vals = render(view_map_vals, datas, Color_Blue)\n",
    "    \n",
    "    # render voyage plan\n",
    "#     view_map_vals = render(view_map_vals, voyage_plan, Color_Green)\n",
    "    for i in voyage_plan:\n",
    "        neighbors = neighbor_points(i)\n",
    "        view_map_vals = render(view_map_vals, neighbors, Color_Grey)\n",
    "    \n",
    "    # render ship - Color Green/Black\n",
    "    view_map_vals = render(view_map_vals, [own_ship.position()], Color_Green)\n",
    "    for i in other_ships:\n",
    "#         print(i.position())\n",
    "        view_map_vals = render(view_map_vals, [i.position()], Color_Black)\n",
    "    \n",
    "    # render ship buffer - Color Red/Grey\n",
    "#     view_map_vals = render(view_map_vals, datas, Color_Red)\n",
    "#     view_map_vals = render(view_map_vals, datas, Color_Grey)\n",
    "    \n",
    "    # render heading line\n",
    "    \n",
    "    return view_map_vals\n",
    "#     pass"
   ]
  },
  {
   "cell_type": "markdown",
   "metadata": {},
   "source": [
    "### Control Function"
   ]
  },
  {
   "cell_type": "code",
   "execution_count": 11,
   "metadata": {
    "ExecuteTime": {
     "end_time": "2021-08-19T08:42:55.350048Z",
     "start_time": "2021-08-19T08:42:55.137068Z"
    }
   },
   "outputs": [],
   "source": [
    "# control function\n",
    "\n",
    "# update position\n",
    "def update_position(x, y, course, speed):\n",
    "    xx = round(speed*math.sin(course*math.pi/180)*time_interval/60/map_block_distance+x,3)\n",
    "    yy = round(speed*math.cos(course*math.pi/180)*time_interval/60/map_block_distance+y,3)\n",
    "    return xx, yy\n",
    "\n",
    "# rpm with speed (time)\n",
    "# rudder angle with course (time & rpm)\n",
    "\n",
    "# other ship\n",
    "# fixed course、speed、rpm、rudder angle\n",
    "\n",
    "def included_angle(x1,y1,x2,y2):\n",
    "    x = x2-x1\n",
    "    y = y2-y1\n",
    "\n",
    "    ans= (math.atan(y/x))*180/math.pi\n",
    "    ans = round(ans,0)\n",
    "    if(x1>x2):\n",
    "        ans = 270-ans\n",
    "    else:\n",
    "        ans = 90-ans\n",
    "    return ans\n",
    "\n",
    "def fixed_course(x1,y1,x2,y2):\n",
    "    course = included_angle(x1,y1,x2,y2)\n",
    "    return course\n",
    "\n",
    "def fixed_speed(speed):\n",
    "    return speed\n",
    "\n",
    "def fixed_rpm(rpm):\n",
    "    return rpm\n",
    "\n",
    "def fixed_rudder_angle(rudder_angle):\n",
    "    return rudder_angle\n",
    "\n",
    "# FIXME\n",
    "\n",
    "def dynamic_course(course):\n",
    "    pass\n",
    "\n",
    "def dynamic_speed(speed):\n",
    "    pass\n",
    "\n",
    "# own ship\n",
    "# general / special navigation\n",
    "\n",
    "# course: degree\n",
    "\n",
    "def general_navigation():\n",
    "    pass\n",
    "    \n",
    "# FIXME\n",
    "def special_navigation():\n",
    "    pass\n"
   ]
  },
  {
   "cell_type": "markdown",
   "metadata": {},
   "source": [
    "## 2 - Load Map"
   ]
  },
  {
   "cell_type": "code",
   "execution_count": 12,
   "metadata": {
    "ExecuteTime": {
     "end_time": "2021-08-19T08:42:55.654078Z",
     "start_time": "2021-08-19T08:42:55.354383Z"
    }
   },
   "outputs": [],
   "source": [
    "map_file = './data/37x37-test_map.csv'\n",
    "map_vals = load_map(map_file)"
   ]
  },
  {
   "cell_type": "code",
   "execution_count": 13,
   "metadata": {
    "ExecuteTime": {
     "end_time": "2021-08-19T08:42:55.858588Z",
     "start_time": "2021-08-19T08:42:55.655671Z"
    }
   },
   "outputs": [
    {
     "name": "stdout",
     "output_type": "stream",
     "text": [
      "<class 'numpy.ndarray'>\n"
     ]
    },
    {
     "data": {
      "text/plain": [
       "(37, 37)"
      ]
     },
     "execution_count": 13,
     "metadata": {},
     "output_type": "execute_result"
    }
   ],
   "source": [
    "print(type(map_vals))\n",
    "map_vals.shape"
   ]
  },
  {
   "cell_type": "markdown",
   "metadata": {},
   "source": [
    "## 3 - Start Simulation\n",
    "\n",
    "### Variable\n",
    "\n",
    "- map_vals\n",
    "- view_map_vals\n",
    "- temp_map_vals\n",
    "--- \n",
    "- view_map\n",
    "- view_map_data"
   ]
  },
  {
   "cell_type": "code",
   "execution_count": 14,
   "metadata": {
    "ExecuteTime": {
     "end_time": "2021-08-19T08:42:56.086382Z",
     "start_time": "2021-08-19T08:42:55.860756Z"
    },
    "code_folding": []
   },
   "outputs": [],
   "source": [
    "# random other ship\n",
    "random.seed(2)\n",
    "\n",
    "random_count = 5\n",
    "test_other_ships = []\n",
    "\n",
    "for i in range(random_count):\n",
    "    x = randrange(view_size*2)\n",
    "    y = randrange(view_size*2)\n",
    "    course = randrange(3600)/10\n",
    "    speed = randrange(60)/10\n",
    "    test_other_ships.append(OtherShip(x,y,course,speed))\n",
    "#     print(i)\n",
    "#     test_other_ships[i].print_info()\n",
    "#     print()"
   ]
  },
  {
   "cell_type": "code",
   "execution_count": 15,
   "metadata": {
    "ExecuteTime": {
     "end_time": "2021-08-19T08:42:56.260681Z",
     "start_time": "2021-08-19T08:42:56.087852Z"
    }
   },
   "outputs": [],
   "source": [
    "# Start Simulation\n",
    "change_view_point = 0\n",
    "\n",
    "own_ship = OwnShip(1,5,0,6)\n",
    "\n",
    "# other ship\n",
    "other_ships = test_other_ships\n"
   ]
  },
  {
   "cell_type": "code",
   "execution_count": 16,
   "metadata": {
    "ExecuteTime": {
     "end_time": "2021-08-19T08:42:56.718868Z",
     "start_time": "2021-08-19T08:42:56.262340Z"
    }
   },
   "outputs": [],
   "source": [
    "# test\n",
    "\n",
    "# for i in other_ships:\n",
    "#     print(i.x,i.y)\n",
    "#     print(i.position())\n",
    "#     i.print_info()\n",
    "\n",
    "\n",
    "\n",
    "# for ship in other_ships:\n",
    "#     ship.x, ship.y = update_position(ship.x, ship.y, ship.course, ship.speed)\n",
    "#     print(ship.position())\n",
    "\n",
    "    \n",
    "    \n",
    "# own_ship.position()"
   ]
  },
  {
   "cell_type": "markdown",
   "metadata": {},
   "source": [
    "![chart](data/sim_ship.png)"
   ]
  },
  {
   "cell_type": "code",
   "execution_count": 21,
   "metadata": {
    "ExecuteTime": {
     "end_time": "2021-08-19T08:42:57.038188Z",
     "start_time": "2021-08-19T08:42:56.720470Z"
    },
    "scrolled": true
   },
   "outputs": [
    {
     "name": "stdout",
     "output_type": "stream",
     "text": [
      "Finish !!!\n"
     ]
    }
   ],
   "source": [
    "# Start Simulation\n",
    "\n",
    "# while arrive destination\n",
    "\n",
    "# view_map_vals = view_point_change(map_vals, view_point)\n",
    "step = 0\n",
    "record_datas = []\n",
    "while(1):\n",
    "# for loop in range(10):\n",
    "\n",
    "    # if change view point\n",
    "    if(change_view_point):\n",
    "        view_map_vals = view_point_change(map_vals, view_point)\n",
    "\n",
    "    # update position\n",
    "    own_ship.x, own_ship.y = update_position(own_ship.x, own_ship.y, own_ship.course, own_ship.speed)\n",
    "\n",
    "    for ship in other_ships:\n",
    "        ship.x, ship.y = update_position(ship.x, ship.y, ship.course, ship.speed)\n",
    "\n",
    "    # render view map\n",
    "    temp_map_vals = view_map_vals.copy()\n",
    "    temp_map_vals = render_view_map(temp_map_vals)\n",
    "\n",
    "    # update waypoint_index\n",
    "    if(is_neighbor(own_ship.position(),own_ship.waypoint())):\n",
    "        if(own_ship.waypoint_index == (len(voyage_plan)-1)):\n",
    "            print(\"Finish !!!\")\n",
    "            break\n",
    "        own_ship.waypoint_index = own_ship.waypoint_index+1\n",
    "#         print(own_ship.waypoint_index)\n",
    "#         print(own_ship.waypoint())\n",
    "    \n",
    "    # update other ship cpa、tcpa\n",
    "    for ship in other_ships:\n",
    "        ship.update_tcpa(own_ship)\n",
    "        ship.update_cpa(own_ship)\n",
    "#         print(ship.tcpa, '\\t', ship.cpa)\n",
    "\n",
    "    # update course、speed、rpm、rudder angle(rpm, rudder angle)\n",
    "    for i in other_ships:\n",
    "        temp_course = i.course\n",
    "        temp_speed = i.speed\n",
    "        i.update_course(temp_course)\n",
    "        i.update_speed(temp_speed)\n",
    "    \n",
    "    # update own ship course、speed\n",
    "    temp_waypoint = own_ship.waypoint()\n",
    "    temp_course = fixed_course(own_ship.x, own_ship.y, temp_waypoint[0], temp_waypoint[1])\n",
    "    temp_speed = own_ship.speed\n",
    "    own_ship.update_course(temp_course)\n",
    "    own_ship.update_speed(temp_speed)\n",
    "\n",
    "    # record data - 1 \n",
    "    own_ship_data = [step,'Own Ship', own_ship.x, own_ship.y, own_ship.course, own_ship.speed, own_ship.rpm, own_ship.rudder_angle, own_ship.waypoint(),'','']\n",
    "#     print(own_ship_data)\n",
    "    record_datas.append(own_ship_data)\n",
    "    other_ships_index = 0\n",
    "    for i in other_ships:\n",
    "        other_ship_data = [step,'Other Ship - '+ str(other_ships_index), i.x, i.y, i.course, i.speed, '', '', '', i.cpa, i.tcpa]\n",
    "#         print(other_ship_data)\n",
    "        record_datas.append(other_ship_data)\n",
    "        other_ships_index += 1\n",
    "    # draw map\n",
    "    view_map_data.z = temp_map_vals\n",
    "    \n",
    "    step += 1\n",
    "    time.sleep(0.001)\n",
    "\n",
    "# record data - 2\n",
    "if(is_record):\n",
    "    t = time.localtime()\n",
    "    current_time = time.strftime(\"%m-%d-%H:%M\", t)\n",
    "    file_name = 'record/record - ' + current_time + 'UTC.csv'\n",
    "    with open(file_name, 'w', newline='') as csvfile:\n",
    "        writer = csv.writer(csvfile)\n",
    "        writer.writerows(record_datas)"
   ]
  },
  {
   "cell_type": "markdown",
   "metadata": {},
   "source": [
    "### Animate"
   ]
  },
  {
   "cell_type": "code",
   "execution_count": 18,
   "metadata": {
    "ExecuteTime": {
     "end_time": "2021-08-19T08:42:57.041907Z",
     "start_time": "2021-08-19T08:42:51.942Z"
    },
    "scrolled": false
   },
   "outputs": [],
   "source": [
    "# First Part\n",
    "view_map_vals = view_point_change(map_vals, view_point)\n",
    "temp_map_vals = view_map_vals.copy()\n",
    "\n",
    "view_map = view_map_show(temp_map_vals)\n",
    "view_map_data = view_map.data[0]"
   ]
  },
  {
   "cell_type": "code",
   "execution_count": 22,
   "metadata": {
    "ExecuteTime": {
     "end_time": "2021-08-19T08:42:57.043000Z",
     "start_time": "2021-08-19T08:42:51.945Z"
    }
   },
   "outputs": [
    {
     "data": {
      "application/vnd.jupyter.widget-view+json": {
       "model_id": "43a04799dea043cdab12217589067460",
       "version_major": 2,
       "version_minor": 0
      },
      "text/plain": [
       "FigureWidget({\n",
       "    'data': [{'coloraxis': 'coloraxis',\n",
       "              'hovertemplate': 'x: %{x}<br>y: %{y}<br>c…"
      ]
     },
     "metadata": {},
     "output_type": "display_data"
    }
   ],
   "source": [
    "view_map_data.z = temp_map_vals\n",
    "view_map"
   ]
  },
  {
   "cell_type": "code",
   "execution_count": 23,
   "metadata": {
    "ExecuteTime": {
     "end_time": "2021-08-19T08:42:57.044083Z",
     "start_time": "2021-08-19T08:42:51.947Z"
    }
   },
   "outputs": [
    {
     "name": "stdout",
     "output_type": "stream",
     "text": [
      "279\n"
     ]
    }
   ],
   "source": [
    "# debug\n",
    "print(step)\n",
    "# own_ship.print_info()\n",
    "# print(own_ship.waypoint())\n",
    "# print(own_ship.waypoint_index)"
   ]
  }
 ],
 "metadata": {
  "kernelspec": {
   "display_name": "Python 3",
   "language": "python",
   "name": "python3"
  },
  "language_info": {
   "codemirror_mode": {
    "name": "ipython",
    "version": 3
   },
   "file_extension": ".py",
   "mimetype": "text/x-python",
   "name": "python",
   "nbconvert_exporter": "python",
   "pygments_lexer": "ipython3",
   "version": "3.9.2"
  },
  "metadata": {
   "interpreter": {
    "hash": "c946091fe8a613423b49edf78ffcd943e26570232d296ae19f3c29d587175638"
   }
  },
  "toc": {
   "base_numbering": 1,
   "nav_menu": {},
   "number_sections": true,
   "sideBar": true,
   "skip_h1_title": false,
   "title_cell": "Table of Contents",
   "title_sidebar": "Contents",
   "toc_cell": false,
   "toc_position": {
    "height": "calc(100% - 180px)",
    "left": "10px",
    "top": "150px",
    "width": "255.969px"
   },
   "toc_section_display": true,
   "toc_window_display": true
  },
  "varInspector": {
   "cols": {
    "lenName": 16,
    "lenType": 16,
    "lenVar": 40
   },
   "kernels_config": {
    "python": {
     "delete_cmd_postfix": "",
     "delete_cmd_prefix": "del ",
     "library": "var_list.py",
     "varRefreshCmd": "print(var_dic_list())"
    },
    "r": {
     "delete_cmd_postfix": ") ",
     "delete_cmd_prefix": "rm(",
     "library": "var_list.r",
     "varRefreshCmd": "cat(var_dic_list()) "
    }
   },
   "position": {
    "height": "572.713px",
    "left": "1173.38px",
    "right": "20px",
    "top": "86.9403px",
    "width": "539.006px"
   },
   "types_to_exclude": [
    "module",
    "function",
    "builtin_function_or_method",
    "instance",
    "_Feature"
   ],
   "window_display": false
  }
 },
 "nbformat": 4,
 "nbformat_minor": 4
}
